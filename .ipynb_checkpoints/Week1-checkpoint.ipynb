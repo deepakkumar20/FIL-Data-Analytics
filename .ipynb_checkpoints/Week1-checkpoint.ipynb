{
 "cells": [
  {
   "cell_type": "code",
   "execution_count": 1,
   "id": "851065dd",
   "metadata": {},
   "outputs": [
    {
     "name": "stdout",
     "output_type": "stream",
     "text": [
      "Enter first number7\n",
      "Enter second number4\n",
      "First number is :7 , Second number is : 4\n"
     ]
    }
   ],
   "source": [
    "a = int(input('Enter first number'))\n",
    "b = int(input('Enter second number'))\n",
    "print(f'First number is :{a} , Second number is : {b}')"
   ]
  },
  {
   "cell_type": "code",
   "execution_count": 2,
   "id": "d1a5165e",
   "metadata": {},
   "outputs": [
    {
     "name": "stdout",
     "output_type": "stream",
     "text": [
      "Addition result is : 11\n"
     ]
    }
   ],
   "source": [
    "#Addition \n",
    "add = a+b\n",
    "print(f'Addition result is : {add}')"
   ]
  },
  {
   "cell_type": "code",
   "execution_count": 3,
   "id": "e6f5b4bb",
   "metadata": {},
   "outputs": [
    {
     "name": "stdout",
     "output_type": "stream",
     "text": [
      "Subtraction result is : 3\n"
     ]
    }
   ],
   "source": [
    "#Subtraction\n",
    "subtract = a-b\n",
    "print(f'Subtraction result is : {subtract}')"
   ]
  },
  {
   "cell_type": "code",
   "execution_count": 4,
   "id": "779ef2c2",
   "metadata": {},
   "outputs": [
    {
     "name": "stdout",
     "output_type": "stream",
     "text": [
      "Multiplication result is :28\n"
     ]
    }
   ],
   "source": [
    "#Multiplication\n",
    "multiply = a*b\n",
    "print(f'Multiplication result is :{multiply}')"
   ]
  },
  {
   "cell_type": "code",
   "execution_count": 5,
   "id": "a2c8db51",
   "metadata": {},
   "outputs": [
    {
     "name": "stdout",
     "output_type": "stream",
     "text": [
      "Division result is : 1.75\n"
     ]
    }
   ],
   "source": [
    "#Division\n",
    "divide = a/b\n",
    "print(f'Division result is : {divide}')"
   ]
  },
  {
   "cell_type": "code",
   "execution_count": 6,
   "id": "3a90a538",
   "metadata": {},
   "outputs": [
    {
     "name": "stdout",
     "output_type": "stream",
     "text": [
      "Modulus result is : 3\n"
     ]
    }
   ],
   "source": [
    "#Modulus \n",
    "mod = a%b\n",
    "print(f'Modulus result is : {mod}')"
   ]
  },
  {
   "cell_type": "code",
   "execution_count": 7,
   "id": "fcb93b07",
   "metadata": {},
   "outputs": [
    {
     "name": "stdout",
     "output_type": "stream",
     "text": [
      "Result of exponentiation is : 21\n"
     ]
    }
   ],
   "source": [
    "#Exponentiation\n",
    "exponent = a*3\n",
    "print(f'Result of exponentiation is : {exponent}')"
   ]
  },
  {
   "cell_type": "code",
   "execution_count": 8,
   "id": "ec11eae7",
   "metadata": {},
   "outputs": [
    {
     "name": "stdout",
     "output_type": "stream",
     "text": [
      "Floor division result is : 1\n"
     ]
    }
   ],
   "source": [
    "#Floor Division\n",
    "floorDiv = a//b\n",
    "print(f'Floor division result is : {floorDiv}')"
   ]
  }
 ],
 "metadata": {
  "kernelspec": {
   "display_name": "Python 3 (ipykernel)",
   "language": "python",
   "name": "python3"
  },
  "language_info": {
   "codemirror_mode": {
    "name": "ipython",
    "version": 3
   },
   "file_extension": ".py",
   "mimetype": "text/x-python",
   "name": "python",
   "nbconvert_exporter": "python",
   "pygments_lexer": "ipython3",
   "version": "3.9.12"
  }
 },
 "nbformat": 4,
 "nbformat_minor": 5
}
